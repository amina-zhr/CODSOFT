{
 "cells": [
  {
   "cell_type": "markdown",
   "id": "f75c0b1d",
   "metadata": {},
   "source": [
    "# Task description"
   ]
  },
  {
   "cell_type": "markdown",
   "id": "86d937bd",
   "metadata": {},
   "source": [
    "Using the Titanic dataset to build a model that predicts whether a\n",
    "passenger on the Titanic survived or not. "
   ]
  },
  {
   "cell_type": "markdown",
   "id": "de4eaccc",
   "metadata": {},
   "source": [
    "# Import data"
   ]
  },
  {
   "cell_type": "code",
   "execution_count": 1,
   "id": "86a98156",
   "metadata": {},
   "outputs": [
    {
     "data": {
      "text/html": [
       "<div>\n",
       "<style scoped>\n",
       "    .dataframe tbody tr th:only-of-type {\n",
       "        vertical-align: middle;\n",
       "    }\n",
       "\n",
       "    .dataframe tbody tr th {\n",
       "        vertical-align: top;\n",
       "    }\n",
       "\n",
       "    .dataframe thead th {\n",
       "        text-align: right;\n",
       "    }\n",
       "</style>\n",
       "<table border=\"1\" class=\"dataframe\">\n",
       "  <thead>\n",
       "    <tr style=\"text-align: right;\">\n",
       "      <th></th>\n",
       "      <th>PassengerId</th>\n",
       "      <th>Survived</th>\n",
       "      <th>Pclass</th>\n",
       "      <th>Name</th>\n",
       "      <th>Sex</th>\n",
       "      <th>Age</th>\n",
       "      <th>SibSp</th>\n",
       "      <th>Parch</th>\n",
       "      <th>Ticket</th>\n",
       "      <th>Fare</th>\n",
       "      <th>Cabin</th>\n",
       "      <th>Embarked</th>\n",
       "    </tr>\n",
       "  </thead>\n",
       "  <tbody>\n",
       "    <tr>\n",
       "      <th>0</th>\n",
       "      <td>892</td>\n",
       "      <td>0</td>\n",
       "      <td>3</td>\n",
       "      <td>Kelly, Mr. James</td>\n",
       "      <td>male</td>\n",
       "      <td>34.5</td>\n",
       "      <td>0</td>\n",
       "      <td>0</td>\n",
       "      <td>330911</td>\n",
       "      <td>7.8292</td>\n",
       "      <td>NaN</td>\n",
       "      <td>Q</td>\n",
       "    </tr>\n",
       "    <tr>\n",
       "      <th>1</th>\n",
       "      <td>893</td>\n",
       "      <td>1</td>\n",
       "      <td>3</td>\n",
       "      <td>Wilkes, Mrs. James (Ellen Needs)</td>\n",
       "      <td>female</td>\n",
       "      <td>47.0</td>\n",
       "      <td>1</td>\n",
       "      <td>0</td>\n",
       "      <td>363272</td>\n",
       "      <td>7.0000</td>\n",
       "      <td>NaN</td>\n",
       "      <td>S</td>\n",
       "    </tr>\n",
       "    <tr>\n",
       "      <th>2</th>\n",
       "      <td>894</td>\n",
       "      <td>0</td>\n",
       "      <td>2</td>\n",
       "      <td>Myles, Mr. Thomas Francis</td>\n",
       "      <td>male</td>\n",
       "      <td>62.0</td>\n",
       "      <td>0</td>\n",
       "      <td>0</td>\n",
       "      <td>240276</td>\n",
       "      <td>9.6875</td>\n",
       "      <td>NaN</td>\n",
       "      <td>Q</td>\n",
       "    </tr>\n",
       "    <tr>\n",
       "      <th>3</th>\n",
       "      <td>895</td>\n",
       "      <td>0</td>\n",
       "      <td>3</td>\n",
       "      <td>Wirz, Mr. Albert</td>\n",
       "      <td>male</td>\n",
       "      <td>27.0</td>\n",
       "      <td>0</td>\n",
       "      <td>0</td>\n",
       "      <td>315154</td>\n",
       "      <td>8.6625</td>\n",
       "      <td>NaN</td>\n",
       "      <td>S</td>\n",
       "    </tr>\n",
       "    <tr>\n",
       "      <th>4</th>\n",
       "      <td>896</td>\n",
       "      <td>1</td>\n",
       "      <td>3</td>\n",
       "      <td>Hirvonen, Mrs. Alexander (Helga E Lindqvist)</td>\n",
       "      <td>female</td>\n",
       "      <td>22.0</td>\n",
       "      <td>1</td>\n",
       "      <td>1</td>\n",
       "      <td>3101298</td>\n",
       "      <td>12.2875</td>\n",
       "      <td>NaN</td>\n",
       "      <td>S</td>\n",
       "    </tr>\n",
       "  </tbody>\n",
       "</table>\n",
       "</div>"
      ],
      "text/plain": [
       "   PassengerId  Survived  Pclass  \\\n",
       "0          892         0       3   \n",
       "1          893         1       3   \n",
       "2          894         0       2   \n",
       "3          895         0       3   \n",
       "4          896         1       3   \n",
       "\n",
       "                                           Name     Sex   Age  SibSp  Parch  \\\n",
       "0                              Kelly, Mr. James    male  34.5      0      0   \n",
       "1              Wilkes, Mrs. James (Ellen Needs)  female  47.0      1      0   \n",
       "2                     Myles, Mr. Thomas Francis    male  62.0      0      0   \n",
       "3                              Wirz, Mr. Albert    male  27.0      0      0   \n",
       "4  Hirvonen, Mrs. Alexander (Helga E Lindqvist)  female  22.0      1      1   \n",
       "\n",
       "    Ticket     Fare Cabin Embarked  \n",
       "0   330911   7.8292   NaN        Q  \n",
       "1   363272   7.0000   NaN        S  \n",
       "2   240276   9.6875   NaN        Q  \n",
       "3   315154   8.6625   NaN        S  \n",
       "4  3101298  12.2875   NaN        S  "
      ]
     },
     "execution_count": 1,
     "metadata": {},
     "output_type": "execute_result"
    }
   ],
   "source": [
    "import pandas as pd\n",
    "titanic=pd.read_csv(\"C:/Users/ZAHAR AMINA/Desktop/Codsoft/Task1/tested.csv\")\n",
    "titanic.head()"
   ]
  },
  {
   "cell_type": "markdown",
   "id": "f49f6807",
   "metadata": {},
   "source": [
    "# Understanding"
   ]
  },
  {
   "cell_type": "code",
   "execution_count": 2,
   "id": "72f38d0b",
   "metadata": {},
   "outputs": [
    {
     "name": "stdout",
     "output_type": "stream",
     "text": [
      "<class 'pandas.core.frame.DataFrame'>\n",
      "RangeIndex: 418 entries, 0 to 417\n",
      "Data columns (total 12 columns):\n",
      " #   Column       Non-Null Count  Dtype  \n",
      "---  ------       --------------  -----  \n",
      " 0   PassengerId  418 non-null    int64  \n",
      " 1   Survived     418 non-null    int64  \n",
      " 2   Pclass       418 non-null    int64  \n",
      " 3   Name         418 non-null    object \n",
      " 4   Sex          418 non-null    object \n",
      " 5   Age          332 non-null    float64\n",
      " 6   SibSp        418 non-null    int64  \n",
      " 7   Parch        418 non-null    int64  \n",
      " 8   Ticket       418 non-null    object \n",
      " 9   Fare         417 non-null    float64\n",
      " 10  Cabin        91 non-null     object \n",
      " 11  Embarked     418 non-null    object \n",
      "dtypes: float64(2), int64(5), object(5)\n",
      "memory usage: 39.3+ KB\n"
     ]
    }
   ],
   "source": [
    "titanic.info() "
   ]
  },
  {
   "cell_type": "code",
   "execution_count": 3,
   "id": "618c28fc",
   "metadata": {},
   "outputs": [
    {
     "data": {
      "text/plain": [
       "PassengerId     0.000000\n",
       "Survived        0.000000\n",
       "Pclass          0.000000\n",
       "Name            0.000000\n",
       "Sex             0.000000\n",
       "Age            20.574163\n",
       "SibSp           0.000000\n",
       "Parch           0.000000\n",
       "Ticket          0.000000\n",
       "Fare            0.239234\n",
       "Cabin          78.229665\n",
       "Embarked        0.000000\n",
       "dtype: float64"
      ]
     },
     "execution_count": 3,
     "metadata": {},
     "output_type": "execute_result"
    }
   ],
   "source": [
    "(titanic.isna().sum()/len(titanic))*100 "
   ]
  },
  {
   "cell_type": "code",
   "execution_count": 4,
   "id": "1e9c78ce",
   "metadata": {},
   "outputs": [
    {
     "data": {
      "text/plain": [
       "0    266\n",
       "1    152\n",
       "Name: Survived, dtype: int64"
      ]
     },
     "execution_count": 4,
     "metadata": {},
     "output_type": "execute_result"
    }
   ],
   "source": [
    "titanic['Survived'].value_counts() #Classification problem"
   ]
  },
  {
   "cell_type": "code",
   "execution_count": 5,
   "id": "a0eae657",
   "metadata": {},
   "outputs": [
    {
     "data": {
      "text/plain": [
       "3    218\n",
       "1    107\n",
       "2     93\n",
       "Name: Pclass, dtype: int64"
      ]
     },
     "execution_count": 5,
     "metadata": {},
     "output_type": "execute_result"
    }
   ],
   "source": [
    "titanic['Pclass'].value_counts()"
   ]
  },
  {
   "cell_type": "code",
   "execution_count": 6,
   "id": "640a22a6",
   "metadata": {},
   "outputs": [
    {
     "data": {
      "text/plain": [
       "0    283\n",
       "1    110\n",
       "2     14\n",
       "3      4\n",
       "4      4\n",
       "8      2\n",
       "5      1\n",
       "Name: SibSp, dtype: int64"
      ]
     },
     "execution_count": 6,
     "metadata": {},
     "output_type": "execute_result"
    }
   ],
   "source": [
    "titanic['SibSp'].value_counts()"
   ]
  },
  {
   "cell_type": "code",
   "execution_count": 7,
   "id": "767e44ec",
   "metadata": {},
   "outputs": [
    {
     "data": {
      "text/plain": [
       "0    324\n",
       "1     52\n",
       "2     33\n",
       "3      3\n",
       "4      2\n",
       "9      2\n",
       "6      1\n",
       "5      1\n",
       "Name: Parch, dtype: int64"
      ]
     },
     "execution_count": 7,
     "metadata": {},
     "output_type": "execute_result"
    }
   ],
   "source": [
    "titanic['Parch'].value_counts()"
   ]
  },
  {
   "cell_type": "code",
   "execution_count": 8,
   "id": "c0aa3e93",
   "metadata": {},
   "outputs": [
    {
     "data": {
      "text/plain": [
       "Series([], Name: Name, dtype: object)"
      ]
     },
     "execution_count": 8,
     "metadata": {},
     "output_type": "execute_result"
    }
   ],
   "source": [
    "titanic['Name'][titanic['Name'].duplicated()] #No duplicated value in Name feature !"
   ]
  },
  {
   "cell_type": "code",
   "execution_count": 9,
   "id": "a0028014",
   "metadata": {},
   "outputs": [
    {
     "data": {
      "text/plain": [
       "Series([], Name: PassengerId, dtype: int64)"
      ]
     },
     "execution_count": 9,
     "metadata": {},
     "output_type": "execute_result"
    }
   ],
   "source": [
    "titanic['PassengerId'][titanic['PassengerId'].duplicated()] #No duplicated value in PassengerId feature "
   ]
  },
  {
   "cell_type": "code",
   "execution_count": 10,
   "id": "168922b7",
   "metadata": {},
   "outputs": [
    {
     "data": {
      "text/plain": [
       "59               PC 17608\n",
       "64               PC 17608\n",
       "69                  19950\n",
       "75                 113503\n",
       "114              PC 17483\n",
       "122                 13236\n",
       "140               CA 2144\n",
       "142              PC 17608\n",
       "156              PC 17483\n",
       "172                347072\n",
       "174                347077\n",
       "177                 11778\n",
       "181              PC 17756\n",
       "210                C 4001\n",
       "213                 24065\n",
       "218                113503\n",
       "242                 16966\n",
       "244            W./C. 6607\n",
       "246          F.C.C. 13534\n",
       "247                 28220\n",
       "249                  2660\n",
       "262                 29103\n",
       "263                350405\n",
       "270                 13050\n",
       "272                 13508\n",
       "281    SOTON/O.Q. 3101315\n",
       "283                  2650\n",
       "287                 21228\n",
       "297                  2662\n",
       "302           S.O./P.P. 2\n",
       "306                113781\n",
       "319            C.A. 31029\n",
       "326                230136\n",
       "330            C.A. 33112\n",
       "338            C.A. 31029\n",
       "342              CA. 2343\n",
       "344              A/5. 851\n",
       "352          S.O.C. 14879\n",
       "353                220845\n",
       "354             C.A. 2315\n",
       "360              CA. 2343\n",
       "362              CA 31352\n",
       "365              CA. 2343\n",
       "371                 16966\n",
       "374                 33638\n",
       "375              PC 17608\n",
       "379                347077\n",
       "385                220845\n",
       "390                 12749\n",
       "394                315153\n",
       "395                 13695\n",
       "400                 36928\n",
       "402                112378\n",
       "407                113503\n",
       "409    SOTON/O.Q. 3101315\n",
       "Name: Ticket, dtype: object"
      ]
     },
     "execution_count": 10,
     "metadata": {},
     "output_type": "execute_result"
    }
   ],
   "source": [
    "titanic['Ticket'][titanic['Ticket'].duplicated()] "
   ]
  },
  {
   "cell_type": "code",
   "execution_count": 11,
   "id": "f1f87f79",
   "metadata": {},
   "outputs": [
    {
     "data": {
      "text/plain": [
       "PC 17608    5\n",
       "CA. 2343    4\n",
       "113503      4\n",
       "PC 17483    3\n",
       "220845      3\n",
       "           ..\n",
       "349226      1\n",
       "2621        1\n",
       "4133        1\n",
       "113780      1\n",
       "2668        1\n",
       "Name: Ticket, Length: 363, dtype: int64"
      ]
     },
     "execution_count": 11,
     "metadata": {},
     "output_type": "execute_result"
    }
   ],
   "source": [
    "titanic['Ticket'].value_counts()"
   ]
  },
  {
   "cell_type": "markdown",
   "id": "079246c4",
   "metadata": {},
   "source": [
    "# Insights :\n",
    "    1.Name and PassengerId featues have no dupplicated values.\n",
    "    -> Drop Name and PassengerId featues from selected DataSet.\n",
    "    2.Cabin feature has 78% of NaN values.\n",
    "    -> Drop Cabin feature from selected DataSet.\n",
    "    3.Pclass feature has 3 classes.\n",
    "    4.The Output \"Servived\" is a binary class (1 or 0)."
   ]
  },
  {
   "cell_type": "markdown",
   "id": "9aac1a17",
   "metadata": {},
   "source": [
    "# Data Cleaning "
   ]
  },
  {
   "cell_type": "code",
   "execution_count": 12,
   "id": "6781a770",
   "metadata": {},
   "outputs": [],
   "source": [
    "titanic.drop(['Name', 'PassengerId', 'Cabin'], axis=1, inplace=True)"
   ]
  },
  {
   "cell_type": "code",
   "execution_count": 13,
   "id": "3742f0ff",
   "metadata": {},
   "outputs": [],
   "source": [
    "titanic['Fare'].fillna(titanic['Fare'].mean(), inplace=True)"
   ]
  },
  {
   "cell_type": "code",
   "execution_count": 14,
   "id": "e6afb52a",
   "metadata": {},
   "outputs": [
    {
     "data": {
      "text/plain": [
       "Survived     0.000000\n",
       "Pclass       0.000000\n",
       "Sex          0.000000\n",
       "Age         20.574163\n",
       "SibSp        0.000000\n",
       "Parch        0.000000\n",
       "Ticket       0.000000\n",
       "Fare         0.000000\n",
       "Embarked     0.000000\n",
       "dtype: float64"
      ]
     },
     "execution_count": 14,
     "metadata": {},
     "output_type": "execute_result"
    }
   ],
   "source": [
    "(titanic.isna().sum()/len(titanic))*100 "
   ]
  },
  {
   "cell_type": "markdown",
   "id": "0abe66e6",
   "metadata": {},
   "source": [
    "# Data Analysis and Preprocessing"
   ]
  },
  {
   "cell_type": "code",
   "execution_count": 15,
   "id": "2f4c01dd",
   "metadata": {},
   "outputs": [
    {
     "data": {
      "image/png": "[encoded data removed]",
      "text/plain": [
       "<Figure size 300x200 with 1 Axes>"
      ]
     },
     "metadata": {},
     "output_type": "display_data"
    }
   ],
   "source": [
    "from matplotlib import pyplot as plt\n",
    "\n",
    "classes_distribution = titanic['Survived'].value_counts()\n",
    "\n",
    "# Plotting the histogram\n",
    "plt.figure(figsize=(3,2))\n",
    "plt.bar(classes_distribution.index, classes_distribution.values, color=['red', 'blue'], label=['Dead', 'Survived'])\n",
    "plt.ylabel('Passager number')\n",
    "plt.title('Distribution of Survived')\n",
    "plt.legend()\n",
    "plt.show()"
   ]
  },
  {
   "cell_type": "code",
   "execution_count": 16,
   "id": "38f0221b",
   "metadata": {},
   "outputs": [
    {
     "data": {
      "image/png": "[encoded data removed]",
      "text/plain": [
       "<Figure size 300x200 with 1 Axes>"
      ]
     },
     "metadata": {},
     "output_type": "display_data"
    }
   ],
   "source": [
    "classes_distribution = titanic['Pclass'].value_counts()\n",
    "\n",
    "# Plotting the histogram\n",
    "plt.figure(figsize=(3, 2))\n",
    "plt.bar(classes_distribution.index, classes_distribution.values)\n",
    "plt.xlabel('Pclass')\n",
    "plt.ylabel('Passager number')\n",
    "plt.title('Distribution of Pclass')\n",
    "plt.show()"
   ]
  },
  {
   "cell_type": "code",
   "execution_count": 17,
   "id": "2c5307d5",
   "metadata": {},
   "outputs": [
    {
     "data": {
      "image/png": "[encoded data removed]",
      "text/plain": [
       "<Figure size 300x300 with 1 Axes>"
      ]
     },
     "metadata": {},
     "output_type": "display_data"
    }
   ],
   "source": [
    "classes_distribution = titanic['Sex'].value_counts()\n",
    "\n",
    "# Plotting the histogram\n",
    "plt.figure(figsize=(3, 3))\n",
    "plt.bar(classes_distribution.index, classes_distribution.values, color=['blue', 'red'])\n",
    "plt.ylabel('Passager number')\n",
    "plt.title('Distribution of sex')\n",
    "plt.show()"
   ]
  },
  {
   "cell_type": "code",
   "execution_count": 18,
   "id": "9a197971",
   "metadata": {},
   "outputs": [],
   "source": [
    "titanic['Sex']=titanic['Sex'].apply(lambda x: 1 if x == 'female' else 0)\n",
    "titanic['Embarked']=titanic['Embarked'].apply(lambda x: 1 if x == 'Q' else 0)"
   ]
  },
  {
   "cell_type": "code",
   "execution_count": 19,
   "id": "ee79cd5e",
   "metadata": {},
   "outputs": [
    {
     "name": "stderr",
     "output_type": "stream",
     "text": [
      "C:\\Users\\ZAHAR AMINA\\AppData\\Local\\Temp\\ipykernel_9760\\2964377706.py:1: FutureWarning: The default value of numeric_only in DataFrame.corr is deprecated. In a future version, it will default to False. Select only valid columns or specify the value of numeric_only to silence this warning.\n",
      "  titanic.corr()\n"
     ]
    },
    {
     "data": {
      "text/html": [
       "<div>\n",
       "<style scoped>\n",
       "    .dataframe tbody tr th:only-of-type {\n",
       "        vertical-align: middle;\n",
       "    }\n",
       "\n",
       "    .dataframe tbody tr th {\n",
       "        vertical-align: top;\n",
       "    }\n",
       "\n",
       "    .dataframe thead th {\n",
       "        text-align: right;\n",
       "    }\n",
       "</style>\n",
       "<table border=\"1\" class=\"dataframe\">\n",
       "  <thead>\n",
       "    <tr style=\"text-align: right;\">\n",
       "      <th></th>\n",
       "      <th>Survived</th>\n",
       "      <th>Pclass</th>\n",
       "      <th>Sex</th>\n",
       "      <th>Age</th>\n",
       "      <th>SibSp</th>\n",
       "      <th>Parch</th>\n",
       "      <th>Fare</th>\n",
       "      <th>Embarked</th>\n",
       "    </tr>\n",
       "  </thead>\n",
       "  <tbody>\n",
       "    <tr>\n",
       "      <th>Survived</th>\n",
       "      <td>1.000000</td>\n",
       "      <td>-0.108615</td>\n",
       "      <td>1.000000</td>\n",
       "      <td>-0.000013</td>\n",
       "      <td>0.099943</td>\n",
       "      <td>0.159120</td>\n",
       "      <td>0.191382</td>\n",
       "      <td>0.115574</td>\n",
       "    </tr>\n",
       "    <tr>\n",
       "      <th>Pclass</th>\n",
       "      <td>-0.108615</td>\n",
       "      <td>1.000000</td>\n",
       "      <td>-0.108615</td>\n",
       "      <td>-0.492143</td>\n",
       "      <td>0.001087</td>\n",
       "      <td>0.018721</td>\n",
       "      <td>-0.576619</td>\n",
       "      <td>0.252608</td>\n",
       "    </tr>\n",
       "    <tr>\n",
       "      <th>Sex</th>\n",
       "      <td>1.000000</td>\n",
       "      <td>-0.108615</td>\n",
       "      <td>1.000000</td>\n",
       "      <td>-0.000013</td>\n",
       "      <td>0.099943</td>\n",
       "      <td>0.159120</td>\n",
       "      <td>0.191382</td>\n",
       "      <td>0.115574</td>\n",
       "    </tr>\n",
       "    <tr>\n",
       "      <th>Age</th>\n",
       "      <td>-0.000013</td>\n",
       "      <td>-0.492143</td>\n",
       "      <td>-0.000013</td>\n",
       "      <td>1.000000</td>\n",
       "      <td>-0.091587</td>\n",
       "      <td>-0.061249</td>\n",
       "      <td>0.335029</td>\n",
       "      <td>-0.017956</td>\n",
       "    </tr>\n",
       "    <tr>\n",
       "      <th>SibSp</th>\n",
       "      <td>0.099943</td>\n",
       "      <td>0.001087</td>\n",
       "      <td>0.099943</td>\n",
       "      <td>-0.091587</td>\n",
       "      <td>1.000000</td>\n",
       "      <td>0.306895</td>\n",
       "      <td>0.171488</td>\n",
       "      <td>-0.098824</td>\n",
       "    </tr>\n",
       "    <tr>\n",
       "      <th>Parch</th>\n",
       "      <td>0.159120</td>\n",
       "      <td>0.018721</td>\n",
       "      <td>0.159120</td>\n",
       "      <td>-0.061249</td>\n",
       "      <td>0.306895</td>\n",
       "      <td>1.000000</td>\n",
       "      <td>0.230001</td>\n",
       "      <td>-0.132948</td>\n",
       "    </tr>\n",
       "    <tr>\n",
       "      <th>Fare</th>\n",
       "      <td>0.191382</td>\n",
       "      <td>-0.576619</td>\n",
       "      <td>0.191382</td>\n",
       "      <td>0.335029</td>\n",
       "      <td>0.171488</td>\n",
       "      <td>0.230001</td>\n",
       "      <td>1.000000</td>\n",
       "      <td>-0.155539</td>\n",
       "    </tr>\n",
       "    <tr>\n",
       "      <th>Embarked</th>\n",
       "      <td>0.115574</td>\n",
       "      <td>0.252608</td>\n",
       "      <td>0.115574</td>\n",
       "      <td>-0.017956</td>\n",
       "      <td>-0.098824</td>\n",
       "      <td>-0.132948</td>\n",
       "      <td>-0.155539</td>\n",
       "      <td>1.000000</td>\n",
       "    </tr>\n",
       "  </tbody>\n",
       "</table>\n",
       "</div>"
      ],
      "text/plain": [
       "          Survived    Pclass       Sex       Age     SibSp     Parch  \\\n",
       "Survived  1.000000 -0.108615  1.000000 -0.000013  0.099943  0.159120   \n",
       "Pclass   -0.108615  1.000000 -0.108615 -0.492143  0.001087  0.018721   \n",
       "Sex       1.000000 -0.108615  1.000000 -0.000013  0.099943  0.159120   \n",
       "Age      -0.000013 -0.492143 -0.000013  1.000000 -0.091587 -0.061249   \n",
       "SibSp     0.099943  0.001087  0.099943 -0.091587  1.000000  0.306895   \n",
       "Parch     0.159120  0.018721  0.159120 -0.061249  0.306895  1.000000   \n",
       "Fare      0.191382 -0.576619  0.191382  0.335029  0.171488  0.230001   \n",
       "Embarked  0.115574  0.252608  0.115574 -0.017956 -0.098824 -0.132948   \n",
       "\n",
       "              Fare  Embarked  \n",
       "Survived  0.191382  0.115574  \n",
       "Pclass   -0.576619  0.252608  \n",
       "Sex       0.191382  0.115574  \n",
       "Age       0.335029 -0.017956  \n",
       "SibSp     0.171488 -0.098824  \n",
       "Parch     0.230001 -0.132948  \n",
       "Fare      1.000000 -0.155539  \n",
       "Embarked -0.155539  1.000000  "
      ]
     },
     "execution_count": 19,
     "metadata": {},
     "output_type": "execute_result"
    }
   ],
   "source": [
    "titanic.corr()"
   ]
  },
  {
   "cell_type": "code",
   "execution_count": 20,
   "id": "24a8e005",
   "metadata": {},
   "outputs": [],
   "source": [
    "import numpy as np\n",
    "titanic['Age'].fillna(np.floor(titanic['Age'].mean()), inplace=True)"
   ]
  },
  {
   "cell_type": "code",
   "execution_count": 21,
   "id": "d7c2ce5c",
   "metadata": {},
   "outputs": [],
   "source": [
    "titanic['Age']=(titanic['Age']-titanic['Age'].mean())/titanic['Age'].std()"
   ]
  },
  {
   "cell_type": "code",
   "execution_count": 22,
   "id": "68cc94c2",
   "metadata": {},
   "outputs": [],
   "source": [
    "titanic['Fare']=(titanic['Fare']-titanic['Fare'].mean())/titanic['Fare'].std()"
   ]
  },
  {
   "cell_type": "code",
   "execution_count": 23,
   "id": "dab7cdf0",
   "metadata": {},
   "outputs": [
    {
     "data": {
      "text/plain": [
       "Survived    0.0\n",
       "Pclass      0.0\n",
       "Sex         0.0\n",
       "Age         0.0\n",
       "SibSp       0.0\n",
       "Parch       0.0\n",
       "Ticket      0.0\n",
       "Fare        0.0\n",
       "Embarked    0.0\n",
       "dtype: float64"
      ]
     },
     "execution_count": 23,
     "metadata": {},
     "output_type": "execute_result"
    }
   ],
   "source": [
    "(titanic.isna().sum()/len(titanic))*100 "
   ]
  },
  {
   "cell_type": "code",
   "execution_count": 34,
   "id": "24fbe21d",
   "metadata": {},
   "outputs": [],
   "source": [
    "#Split DataSet\n",
    "from sklearn.model_selection import StratifiedShuffleSplit\n",
    "x=titanic.drop(['Survived', 'Ticket'], axis=1)\n",
    "y=titanic['Survived']\n",
    "bins = pd.cut(y, bins=2, labels=False)\n",
    "splitter = StratifiedShuffleSplit(n_splits=1, test_size=0.2, random_state=42)\n",
    "for train_index, test_index in splitter.split(x, bins):\n",
    "    X_train, X_test = x.iloc[train_index], x.iloc[test_index]\n",
    "    y_train, y_test = y.iloc[train_index], y.iloc[test_index]"
   ]
  },
  {
   "cell_type": "markdown",
   "id": "b7a3173f",
   "metadata": {},
   "source": [
    "\n",
    "# Train model"
   ]
  },
  {
   "cell_type": "markdown",
   "id": "71c84f54",
   "metadata": {},
   "source": [
    "# K-Nearest Neighboors"
   ]
  },
  {
   "cell_type": "code",
   "execution_count": 47,
   "id": "7d56f6ae",
   "metadata": {},
   "outputs": [
    {
     "data": {
      "text/plain": [
       "0.9523809523809523"
      ]
     },
     "execution_count": 47,
     "metadata": {},
     "output_type": "execute_result"
    }
   ],
   "source": [
    "from sklearn.neighbors import KNeighborsClassifier\n",
    "from sklearn.metrics import accuracy_score\n",
    "\n",
    "neigh = KNeighborsClassifier(n_neighbors=5)\n",
    "neigh.fit(X_train, y_train)\n",
    "predknn=neigh.predict(X_test)\n",
    "accuracy_score(predknn, y_test)"
   ]
  }
 ],
 "metadata": {
  "kernelspec": {
   "display_name": "Python 3 (ipykernel)",
   "language": "python",
   "name": "python3"
  },
  "language_info": {
   "codemirror_mode": {
    "name": "ipython",
    "version": 3
   },
   "file_extension": ".py",
   "mimetype": "text/x-python",
   "name": "python",
   "nbconvert_exporter": "python",
   "pygments_lexer": "ipython3",
   "version": "3.10.12"
  }
 },
 "nbformat": 4,
 "nbformat_minor": 5
}
