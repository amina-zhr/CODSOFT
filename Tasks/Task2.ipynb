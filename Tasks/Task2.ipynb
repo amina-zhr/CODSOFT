{
 "cells": [
  {
   "cell_type": "markdown",
   "id": "828bb061",
   "metadata": {},
   "source": [
    "\n",
    "# Task Description"
   ]
  },
  {
   "cell_type": "markdown",
   "id": "69def005",
   "metadata": {},
   "source": [
    "The goal is to analyze historical movie data and develop a model\n",
    "that accurately estimates the rating given to a movie by users or\n",
    "critics."
   ]
  },
  {
   "cell_type": "markdown",
   "id": "9d0c5f9c",
   "metadata": {},
   "source": [
    "# Import DataSet"
   ]
  },
  {
   "cell_type": "code",
   "execution_count": 1,
   "id": "4a6c82f7",
   "metadata": {
    "scrolled": true
   },
   "outputs": [
    {
     "data": {
      "text/html": [
       "<div>\n",
       "<style scoped>\n",
       "    .dataframe tbody tr th:only-of-type {\n",
       "        vertical-align: middle;\n",
       "    }\n",
       "\n",
       "    .dataframe tbody tr th {\n",
       "        vertical-align: top;\n",
       "    }\n",
       "\n",
       "    .dataframe thead th {\n",
       "        text-align: right;\n",
       "    }\n",
       "</style>\n",
       "<table border=\"1\" class=\"dataframe\">\n",
       "  <thead>\n",
       "    <tr style=\"text-align: right;\">\n",
       "      <th></th>\n",
       "      <th>Name</th>\n",
       "      <th>Year</th>\n",
       "      <th>Duration</th>\n",
       "      <th>Genre</th>\n",
       "      <th>Rating</th>\n",
       "      <th>Votes</th>\n",
       "      <th>Director</th>\n",
       "      <th>Actor 1</th>\n",
       "      <th>Actor 2</th>\n",
       "      <th>Actor 3</th>\n",
       "    </tr>\n",
       "  </thead>\n",
       "  <tbody>\n",
       "    <tr>\n",
       "      <th>0</th>\n",
       "      <td></td>\n",
       "      <td>NaN</td>\n",
       "      <td>NaN</td>\n",
       "      <td>Drama</td>\n",
       "      <td>NaN</td>\n",
       "      <td>NaN</td>\n",
       "      <td>J.S. Randhawa</td>\n",
       "      <td>Manmauji</td>\n",
       "      <td>Birbal</td>\n",
       "      <td>Rajendra Bhatia</td>\n",
       "    </tr>\n",
       "    <tr>\n",
       "      <th>1</th>\n",
       "      <td>#Gadhvi (He thought he was Gandhi)</td>\n",
       "      <td>(2019)</td>\n",
       "      <td>109 min</td>\n",
       "      <td>Drama</td>\n",
       "      <td>7.0</td>\n",
       "      <td>8</td>\n",
       "      <td>Gaurav Bakshi</td>\n",
       "      <td>Rasika Dugal</td>\n",
       "      <td>Vivek Ghamande</td>\n",
       "      <td>Arvind Jangid</td>\n",
       "    </tr>\n",
       "    <tr>\n",
       "      <th>2</th>\n",
       "      <td>#Homecoming</td>\n",
       "      <td>(2021)</td>\n",
       "      <td>90 min</td>\n",
       "      <td>Drama, Musical</td>\n",
       "      <td>NaN</td>\n",
       "      <td>NaN</td>\n",
       "      <td>Soumyajit Majumdar</td>\n",
       "      <td>Sayani Gupta</td>\n",
       "      <td>Plabita Borthakur</td>\n",
       "      <td>Roy Angana</td>\n",
       "    </tr>\n",
       "    <tr>\n",
       "      <th>3</th>\n",
       "      <td>#Yaaram</td>\n",
       "      <td>(2019)</td>\n",
       "      <td>110 min</td>\n",
       "      <td>Comedy, Romance</td>\n",
       "      <td>4.4</td>\n",
       "      <td>35</td>\n",
       "      <td>Ovais Khan</td>\n",
       "      <td>Prateik</td>\n",
       "      <td>Ishita Raj</td>\n",
       "      <td>Siddhant Kapoor</td>\n",
       "    </tr>\n",
       "    <tr>\n",
       "      <th>4</th>\n",
       "      <td>...And Once Again</td>\n",
       "      <td>(2010)</td>\n",
       "      <td>105 min</td>\n",
       "      <td>Drama</td>\n",
       "      <td>NaN</td>\n",
       "      <td>NaN</td>\n",
       "      <td>Amol Palekar</td>\n",
       "      <td>Rajat Kapoor</td>\n",
       "      <td>Rituparna Sengupta</td>\n",
       "      <td>Antara Mali</td>\n",
       "    </tr>\n",
       "  </tbody>\n",
       "</table>\n",
       "</div>"
      ],
      "text/plain": [
       "                                 Name    Year Duration            Genre  \\\n",
       "0                                         NaN      NaN            Drama   \n",
       "1  #Gadhvi (He thought he was Gandhi)  (2019)  109 min            Drama   \n",
       "2                         #Homecoming  (2021)   90 min   Drama, Musical   \n",
       "3                             #Yaaram  (2019)  110 min  Comedy, Romance   \n",
       "4                   ...And Once Again  (2010)  105 min            Drama   \n",
       "\n",
       "   Rating Votes            Director       Actor 1             Actor 2  \\\n",
       "0     NaN   NaN       J.S. Randhawa      Manmauji              Birbal   \n",
       "1     7.0     8       Gaurav Bakshi  Rasika Dugal      Vivek Ghamande   \n",
       "2     NaN   NaN  Soumyajit Majumdar  Sayani Gupta   Plabita Borthakur   \n",
       "3     4.4    35          Ovais Khan       Prateik          Ishita Raj   \n",
       "4     NaN   NaN        Amol Palekar  Rajat Kapoor  Rituparna Sengupta   \n",
       "\n",
       "           Actor 3  \n",
       "0  Rajendra Bhatia  \n",
       "1    Arvind Jangid  \n",
       "2       Roy Angana  \n",
       "3  Siddhant Kapoor  \n",
       "4      Antara Mali  "
      ]
     },
     "execution_count": 1,
     "metadata": {},
     "output_type": "execute_result"
    }
   ],
   "source": [
    "import pandas as pd\n",
    "\n",
    "data_path = 'C:/Users/ZAHAR AMINA/Desktop/Codsoft/Task2/IMDb India Movies.csv'\n",
    "data_movies = pd.read_csv(data_path, encoding='latin_1')\n",
    "data_movies.head()"
   ]
  },
  {
   "cell_type": "markdown",
   "id": "6e1fb588",
   "metadata": {},
   "source": [
    "# Understanding"
   ]
  },
  {
   "cell_type": "code",
   "execution_count": 2,
   "id": "8047e97c",
   "metadata": {},
   "outputs": [
    {
     "name": "stdout",
     "output_type": "stream",
     "text": [
      "<class 'pandas.core.frame.DataFrame'>\n",
      "RangeIndex: 15509 entries, 0 to 15508\n",
      "Data columns (total 10 columns):\n",
      " #   Column    Non-Null Count  Dtype  \n",
      "---  ------    --------------  -----  \n",
      " 0   Name      15509 non-null  object \n",
      " 1   Year      14981 non-null  object \n",
      " 2   Duration  7240 non-null   object \n",
      " 3   Genre     13632 non-null  object \n",
      " 4   Rating    7919 non-null   float64\n",
      " 5   Votes     7920 non-null   object \n",
      " 6   Director  14984 non-null  object \n",
      " 7   Actor 1   13892 non-null  object \n",
      " 8   Actor 2   13125 non-null  object \n",
      " 9   Actor 3   12365 non-null  object \n",
      "dtypes: float64(1), object(9)\n",
      "memory usage: 1.2+ MB\n"
     ]
    }
   ],
   "source": [
    "data_movies.info()"
   ]
  },
  {
   "cell_type": "code",
   "execution_count": 3,
   "id": "f1cacef0",
   "metadata": {},
   "outputs": [
    {
     "data": {
      "text/plain": [
       "Name         0.00\n",
       "Year         3.40\n",
       "Duration    53.32\n",
       "Genre       12.10\n",
       "Rating      48.94\n",
       "Votes       48.93\n",
       "Director     3.39\n",
       "Actor 1     10.43\n",
       "Actor 2     15.37\n",
       "Actor 3     20.27\n",
       "dtype: float64"
      ]
     },
     "execution_count": 3,
     "metadata": {},
     "output_type": "execute_result"
    }
   ],
   "source": [
    "round((data_movies.isnull().sum()/len(data_movies))*100, 2) #Percentage of NaN values;"
   ]
  },
  {
   "cell_type": "code",
   "execution_count": 4,
   "id": "6275c54b",
   "metadata": {},
   "outputs": [
    {
     "data": {
      "text/html": [
       "<div>\n",
       "<style scoped>\n",
       "    .dataframe tbody tr th:only-of-type {\n",
       "        vertical-align: middle;\n",
       "    }\n",
       "\n",
       "    .dataframe tbody tr th {\n",
       "        vertical-align: top;\n",
       "    }\n",
       "\n",
       "    .dataframe thead th {\n",
       "        text-align: right;\n",
       "    }\n",
       "</style>\n",
       "<table border=\"1\" class=\"dataframe\">\n",
       "  <thead>\n",
       "    <tr style=\"text-align: right;\">\n",
       "      <th></th>\n",
       "      <th>Rating</th>\n",
       "    </tr>\n",
       "  </thead>\n",
       "  <tbody>\n",
       "    <tr>\n",
       "      <th>count</th>\n",
       "      <td>7919.000000</td>\n",
       "    </tr>\n",
       "    <tr>\n",
       "      <th>mean</th>\n",
       "      <td>5.841621</td>\n",
       "    </tr>\n",
       "    <tr>\n",
       "      <th>std</th>\n",
       "      <td>1.381777</td>\n",
       "    </tr>\n",
       "    <tr>\n",
       "      <th>min</th>\n",
       "      <td>1.100000</td>\n",
       "    </tr>\n",
       "    <tr>\n",
       "      <th>25%</th>\n",
       "      <td>4.900000</td>\n",
       "    </tr>\n",
       "    <tr>\n",
       "      <th>50%</th>\n",
       "      <td>6.000000</td>\n",
       "    </tr>\n",
       "    <tr>\n",
       "      <th>75%</th>\n",
       "      <td>6.800000</td>\n",
       "    </tr>\n",
       "    <tr>\n",
       "      <th>max</th>\n",
       "      <td>10.000000</td>\n",
       "    </tr>\n",
       "  </tbody>\n",
       "</table>\n",
       "</div>"
      ],
      "text/plain": [
       "            Rating\n",
       "count  7919.000000\n",
       "mean      5.841621\n",
       "std       1.381777\n",
       "min       1.100000\n",
       "25%       4.900000\n",
       "50%       6.000000\n",
       "75%       6.800000\n",
       "max      10.000000"
      ]
     },
     "execution_count": 4,
     "metadata": {},
     "output_type": "execute_result"
    }
   ],
   "source": [
    "data_movies.describe() # 1<Rating<10"
   ]
  },
  {
   "cell_type": "markdown",
   "id": "0e81795b",
   "metadata": {},
   "source": [
    "# Data cleaning"
   ]
  },
  {
   "cell_type": "code",
   "execution_count": 5,
   "id": "d4ce5dec",
   "metadata": {},
   "outputs": [
    {
     "data": {
      "text/plain": [
       "8"
      ]
     },
     "execution_count": 5,
     "metadata": {},
     "output_type": "execute_result"
    }
   ],
   "source": [
    "#Number of Rows with NaN values in all col expect Name col;\n",
    "data_movies.drop('Name', axis=1, inplace=False).isna().all(axis=1).sum() "
   ]
  },
  {
   "cell_type": "code",
   "execution_count": 6,
   "id": "e6039271",
   "metadata": {},
   "outputs": [],
   "source": [
    "#Delete the 8 null rows;\n",
    "data_movies.dropna(subset=data_movies.columns.difference(['Name']), how=\"all\", inplace=True)"
   ]
  },
  {
   "cell_type": "code",
   "execution_count": 7,
   "id": "83e854d4",
   "metadata": {},
   "outputs": [
    {
     "data": {
      "text/plain": [
       "0                                       \n",
       "1        Gadhvi He thought he was Gandhi\n",
       "2                             Homecoming\n",
       "3                                 Yaaram\n",
       "4                         And Once Again\n",
       "                      ...               \n",
       "15504                Zulm Ko Jala Doonga\n",
       "15505                              Zulmi\n",
       "15506                          Zulmi Raj\n",
       "15507                      Zulmi Shikari\n",
       "15508                         ZulmOSitam\n",
       "Name: Name, Length: 15501, dtype: object"
      ]
     },
     "execution_count": 7,
     "metadata": {},
     "output_type": "execute_result"
    }
   ],
   "source": [
    "#Delete special chara from name attribute using Regular Expressions;\n",
    "data_movies['Name'].replace(r'[^a-zA-Z0-9\\s]', '', regex=True, inplace=True)\n",
    "data_movies['Name']"
   ]
  },
  {
   "cell_type": "code",
   "execution_count": 8,
   "id": "957c4969",
   "metadata": {},
   "outputs": [],
   "source": [
    "#Delete special chara from Year attribute;\n",
    "data_movies['Year'].replace(r'[^0-9\\s]', '', regex=True, inplace=True)\n",
    "data_movies['Year']=pd.to_numeric(data_movies['Year'], errors='coerce')"
   ]
  },
  {
   "cell_type": "code",
   "execution_count": 9,
   "id": "f5ab2c55",
   "metadata": {},
   "outputs": [
    {
     "data": {
      "text/plain": [
       "0         NaN\n",
       "1        109 \n",
       "2         90 \n",
       "3        110 \n",
       "4        105 \n",
       "         ... \n",
       "15504     NaN\n",
       "15505    129 \n",
       "15506     NaN\n",
       "15507     NaN\n",
       "15508    130 \n",
       "Name: Duration, Length: 15501, dtype: object"
      ]
     },
     "execution_count": 9,
     "metadata": {},
     "output_type": "execute_result"
    }
   ],
   "source": [
    "#Delete special chara from Duration attribute;\n",
    "data_movies['Duration'].replace(r'[^0-9\\s]', '', regex=True, inplace=True)\n",
    "data_movies['Duration']"
   ]
  },
  {
   "cell_type": "code",
   "execution_count": 10,
   "id": "a91af123",
   "metadata": {},
   "outputs": [
    {
     "data": {
      "text/plain": [
       "Name         0.00\n",
       "Year         0.00\n",
       "Duration    25.55\n",
       "Genre        0.00\n",
       "Rating       0.00\n",
       "Votes        0.00\n",
       "Director     0.06\n",
       "Actor 1      1.41\n",
       "Actor 2      2.25\n",
       "Actor 3      3.31\n",
       "dtype: float64"
      ]
     },
     "execution_count": 10,
     "metadata": {},
     "output_type": "execute_result"
    }
   ],
   "source": [
    "#Delete rows that contains NaN values in Rating, Votes, Year, Genre;\n",
    "data_movies.dropna(subset=['Rating', 'Votes', 'Year', 'Genre'], inplace=True)\n",
    "round((data_movies.isnull().sum()/len(data_movies))*100, 2) #Percentage of NaN values;"
   ]
  },
  {
   "cell_type": "code",
   "execution_count": 11,
   "id": "d98f11b5",
   "metadata": {},
   "outputs": [],
   "source": [
    "import numpy as np\n",
    "data_movies['Duration'] = pd.to_numeric(data_movies['Duration'], errors='coerce')\n",
    "data_movies['Duration'].fillna(np.floor(data_movies['Duration'].mean()), inplace=True) #Fill NaN values"
   ]
  },
  {
   "cell_type": "code",
   "execution_count": 12,
   "id": "68c0f307",
   "metadata": {},
   "outputs": [],
   "source": [
    "data_movies['Votes']=pd.to_numeric(data_movies['Votes'].str.replace(',',''), errors='coerce') #Deal with comma in votes;"
   ]
  },
  {
   "cell_type": "markdown",
   "id": "7630f5e6",
   "metadata": {},
   "source": [
    "# Data Analysis"
   ]
  },
  {
   "cell_type": "code",
   "execution_count": 13,
   "id": "27c96bc2",
   "metadata": {
    "scrolled": false
   },
   "outputs": [
    {
     "name": "stderr",
     "output_type": "stream",
     "text": [
      "C:\\Users\\ZAHAR AMINA\\AppData\\Local\\Temp\\ipykernel_9544\\1286863771.py:1: FutureWarning: The default value of numeric_only in DataFrame.corr is deprecated. In a future version, it will default to False. Select only valid columns or specify the value of numeric_only to silence this warning.\n",
      "  data_movies.corr()\n"
     ]
    },
    {
     "data": {
      "text/html": [
       "<div>\n",
       "<style scoped>\n",
       "    .dataframe tbody tr th:only-of-type {\n",
       "        vertical-align: middle;\n",
       "    }\n",
       "\n",
       "    .dataframe tbody tr th {\n",
       "        vertical-align: top;\n",
       "    }\n",
       "\n",
       "    .dataframe thead th {\n",
       "        text-align: right;\n",
       "    }\n",
       "</style>\n",
       "<table border=\"1\" class=\"dataframe\">\n",
       "  <thead>\n",
       "    <tr style=\"text-align: right;\">\n",
       "      <th></th>\n",
       "      <th>Year</th>\n",
       "      <th>Duration</th>\n",
       "      <th>Rating</th>\n",
       "      <th>Votes</th>\n",
       "    </tr>\n",
       "  </thead>\n",
       "  <tbody>\n",
       "    <tr>\n",
       "      <th>Year</th>\n",
       "      <td>1.000000</td>\n",
       "      <td>-0.286498</td>\n",
       "      <td>-0.168343</td>\n",
       "      <td>0.128888</td>\n",
       "    </tr>\n",
       "    <tr>\n",
       "      <th>Duration</th>\n",
       "      <td>-0.286498</td>\n",
       "      <td>1.000000</td>\n",
       "      <td>-0.027385</td>\n",
       "      <td>0.100212</td>\n",
       "    </tr>\n",
       "    <tr>\n",
       "      <th>Rating</th>\n",
       "      <td>-0.168343</td>\n",
       "      <td>-0.027385</td>\n",
       "      <td>1.000000</td>\n",
       "      <td>0.127760</td>\n",
       "    </tr>\n",
       "    <tr>\n",
       "      <th>Votes</th>\n",
       "      <td>0.128888</td>\n",
       "      <td>0.100212</td>\n",
       "      <td>0.127760</td>\n",
       "      <td>1.000000</td>\n",
       "    </tr>\n",
       "  </tbody>\n",
       "</table>\n",
       "</div>"
      ],
      "text/plain": [
       "              Year  Duration    Rating     Votes\n",
       "Year      1.000000 -0.286498 -0.168343  0.128888\n",
       "Duration -0.286498  1.000000 -0.027385  0.100212\n",
       "Rating   -0.168343 -0.027385  1.000000  0.127760\n",
       "Votes     0.128888  0.100212  0.127760  1.000000"
      ]
     },
     "execution_count": 13,
     "metadata": {},
     "output_type": "execute_result"
    }
   ],
   "source": [
    "data_movies.corr()"
   ]
  },
  {
   "cell_type": "code",
   "execution_count": 14,
   "id": "d954d700",
   "metadata": {},
   "outputs": [
    {
     "data": {
      "image/png": "[encoded data removed]",
      "text/plain": [
       "<Figure size 300x300 with 1 Axes>"
      ]
     },
     "metadata": {},
     "output_type": "display_data"
    }
   ],
   "source": [
    "import matplotlib.pyplot as plt\n",
    "plt.figure(figsize=(3, 3))\n",
    "plt.hist(data_movies['Year'].astype('int64'), bins=20, edgecolor='white')\n",
    "plt.title('Year\\'s distribution')\n",
    "plt.xlabel('Years')\n",
    "plt.ylabel('Distribution')\n",
    "plt.show()"
   ]
  },
  {
   "cell_type": "code",
   "execution_count": 15,
   "id": "cfda6cc3",
   "metadata": {},
   "outputs": [
    {
     "data": {
      "image/png": "[encoded data removed]",
      "text/plain": [
       "<Figure size 300x300 with 1 Axes>"
      ]
     },
     "metadata": {},
     "output_type": "display_data"
    }
   ],
   "source": [
    "plt.figure(figsize=(3, 3))\n",
    "plt.hist(data_movies['Duration'].astype('int64'), bins=25, edgecolor='white')\n",
    "plt.title('Duration\\'s distribution')\n",
    "plt.xlabel('Duration')\n",
    "plt.ylabel('Distribution')\n",
    "plt.show()"
   ]
  },
  {
   "cell_type": "code",
   "execution_count": 16,
   "id": "df5f394c",
   "metadata": {},
   "outputs": [
    {
     "data": {
      "image/png": "[encoded data removed]",
      "text/plain": [
       "<Figure size 300x300 with 1 Axes>"
      ]
     },
     "metadata": {},
     "output_type": "display_data"
    }
   ],
   "source": [
    "plt.figure(figsize=(3, 3))\n",
    "plt.hist(data_movies['Rating'].astype('int64'), bins=10, edgecolor='white')\n",
    "plt.title('Rating\\'s distribution')\n",
    "plt.xlabel('Rating')\n",
    "plt.ylabel('Distribution')\n",
    "plt.show()"
   ]
  },
  {
   "cell_type": "code",
   "execution_count": 17,
   "id": "1fce6ff6",
   "metadata": {},
   "outputs": [],
   "source": [
    "data_genre=data_movies.groupby(['Year', 'Genre'])['Rating'].mean().reset_index()\n",
    "\n",
    "#Top 3 genre;\n",
    "top_3=data_movies['Genre'].value_counts().head(3).index\n",
    "\n",
    "rating_avyear=data_genre[data_genre['Genre'].isin(top_3)]"
   ]
  },
  {
   "cell_type": "code",
   "execution_count": 18,
   "id": "17b5c213",
   "metadata": {},
   "outputs": [
    {
     "data": {
      "image/png": "[encoded data removed]",
      "text/plain": [
       "<Figure size 640x480 with 1 Axes>"
      ]
     },
     "metadata": {},
     "output_type": "display_data"
    }
   ],
   "source": [
    "import seaborn as sns\n",
    "palette=sns.color_palette('Paired', n_colors=len(top_3))\n",
    "for i,j in zip(top_3, palette):\n",
    "    specified_genre=rating_avyear[rating_avyear['Genre']==i]\n",
    "    plt.plot(specified_genre['Year'], specified_genre['Rating'], label=i, marker='', linestyle='-', color=j)\n",
    "    \n",
    "plt.xlabel('Year')\n",
    "plt.ylabel('Rating')\n",
    "plt.title('Rating function based on Years with Coloring by Gender')\n",
    "plt.legend(title='Genre', bbox_to_anchor=(1.05, 1), loc='upper left')\n",
    "\n",
    "plt.show()"
   ]
  },
  {
   "cell_type": "markdown",
   "id": "1dc70eff",
   "metadata": {},
   "source": [
    "# Insights :"
   ]
  },
  {
   "cell_type": "markdown",
   "id": "92920e77",
   "metadata": {},
   "source": [
    "1. Name attribute has unique values.\n",
    "2. the \"Actor*\" and \"Director\" attributes can be encoded by the average rating"
   ]
  },
  {
   "cell_type": "markdown",
   "id": "48d9ea12",
   "metadata": {},
   "source": [
    "# Preprocessing"
   ]
  },
  {
   "cell_type": "code",
   "execution_count": 19,
   "id": "d356f608",
   "metadata": {},
   "outputs": [],
   "source": [
    "#Normalisation\n",
    "data_movies['Year'] = (data_movies['Year']-np.min(data_movies['Year']))/(np.max(data_movies['Year'])-np.min(data_movies['Year']))\n",
    "data_movies['Votes'] = (data_movies['Votes']-np.min(data_movies['Votes']))/(np.max(data_movies['Votes'])-np.min(data_movies['Votes']))\n",
    "data_movies['Duration'] = (data_movies['Duration']-np.min(data_movies['Duration']))/(np.max(data_movies['Duration'])-np.min(data_movies['Duration']))"
   ]
  },
  {
   "cell_type": "code",
   "execution_count": 20,
   "id": "fd62ad09",
   "metadata": {},
   "outputs": [
    {
     "data": {
      "text/plain": [
       "Name        0.000000\n",
       "Year        0.000000\n",
       "Duration    0.000000\n",
       "Genre       0.000000\n",
       "Rating      0.000000\n",
       "Votes       0.000000\n",
       "Director    0.063963\n",
       "Actor 1     1.407189\n",
       "Actor 2     2.251503\n",
       "Actor 3     3.313292\n",
       "dtype: float64"
      ]
     },
     "execution_count": 20,
     "metadata": {},
     "output_type": "execute_result"
    }
   ],
   "source": [
    "#Checking NaN values in data for the last time;\n",
    "(data_movies.isna().sum()/len(data_movies))*100"
   ]
  },
  {
   "cell_type": "code",
   "execution_count": 21,
   "id": "4113932c",
   "metadata": {
    "scrolled": true
   },
   "outputs": [],
   "source": [
    "#Delete NaN rows ;\n",
    "data_movies.dropna(subset=['Actor 1', 'Actor 2', 'Actor 3', 'Director'], inplace=True)\n",
    "\n",
    "#Encoding Features;\n",
    "actor1_trans = data_movies.groupby('Actor 1')['Rating'].transform('mean')\n",
    "data_movies['Actor1_trans'] = actor1_trans\n",
    "\n",
    "actor2_trans = data_movies.groupby('Actor 2')['Rating'].transform('mean')\n",
    "data_movies['Actor2_trans'] = actor2_trans\n",
    "\n",
    "actor3_trans = data_movies.groupby('Actor 3')['Rating'].transform('mean')\n",
    "data_movies['Actor3_trans'] = actor3_trans\n",
    "\n",
    "director_trans = data_movies.groupby('Director')['Rating'].transform('mean')\n",
    "data_movies['Director_trans'] = director_trans\n",
    "\n",
    "genre_trans = data_movies.groupby('Genre')['Rating'].transform('mean')\n",
    "data_movies['Genre_trans'] = genre_trans"
   ]
  },
  {
   "cell_type": "code",
   "execution_count": 22,
   "id": "433666b6",
   "metadata": {},
   "outputs": [
    {
     "data": {
      "text/html": [
       "<div>\n",
       "<style scoped>\n",
       "    .dataframe tbody tr th:only-of-type {\n",
       "        vertical-align: middle;\n",
       "    }\n",
       "\n",
       "    .dataframe tbody tr th {\n",
       "        vertical-align: top;\n",
       "    }\n",
       "\n",
       "    .dataframe thead th {\n",
       "        text-align: right;\n",
       "    }\n",
       "</style>\n",
       "<table border=\"1\" class=\"dataframe\">\n",
       "  <thead>\n",
       "    <tr style=\"text-align: right;\">\n",
       "      <th></th>\n",
       "      <th>Year</th>\n",
       "      <th>Duration</th>\n",
       "      <th>Rating</th>\n",
       "      <th>Votes</th>\n",
       "      <th>Actor1_trans</th>\n",
       "      <th>Actor2_trans</th>\n",
       "      <th>Actor3_trans</th>\n",
       "      <th>Director_trans</th>\n",
       "      <th>Genre_trans</th>\n",
       "    </tr>\n",
       "  </thead>\n",
       "  <tbody>\n",
       "    <tr>\n",
       "      <th>1</th>\n",
       "      <td>0.980769</td>\n",
       "      <td>0.293333</td>\n",
       "      <td>7.0</td>\n",
       "      <td>0.000005</td>\n",
       "      <td>6.850000</td>\n",
       "      <td>7.000000</td>\n",
       "      <td>7.000000</td>\n",
       "      <td>7.000000</td>\n",
       "      <td>6.345910</td>\n",
       "    </tr>\n",
       "    <tr>\n",
       "      <th>3</th>\n",
       "      <td>0.980769</td>\n",
       "      <td>0.296667</td>\n",
       "      <td>4.4</td>\n",
       "      <td>0.000051</td>\n",
       "      <td>5.420000</td>\n",
       "      <td>4.400000</td>\n",
       "      <td>4.450000</td>\n",
       "      <td>4.400000</td>\n",
       "      <td>5.700000</td>\n",
       "    </tr>\n",
       "    <tr>\n",
       "      <th>5</th>\n",
       "      <td>0.769231</td>\n",
       "      <td>0.420000</td>\n",
       "      <td>4.7</td>\n",
       "      <td>0.001390</td>\n",
       "      <td>4.788889</td>\n",
       "      <td>5.786667</td>\n",
       "      <td>5.766667</td>\n",
       "      <td>5.358824</td>\n",
       "      <td>6.224490</td>\n",
       "    </tr>\n",
       "    <tr>\n",
       "      <th>6</th>\n",
       "      <td>0.846154</td>\n",
       "      <td>0.403333</td>\n",
       "      <td>7.4</td>\n",
       "      <td>0.001828</td>\n",
       "      <td>5.300000</td>\n",
       "      <td>6.050000</td>\n",
       "      <td>6.500000</td>\n",
       "      <td>7.500000</td>\n",
       "      <td>6.820000</td>\n",
       "    </tr>\n",
       "    <tr>\n",
       "      <th>8</th>\n",
       "      <td>0.913462</td>\n",
       "      <td>0.203333</td>\n",
       "      <td>5.6</td>\n",
       "      <td>0.000543</td>\n",
       "      <td>5.600000</td>\n",
       "      <td>5.883333</td>\n",
       "      <td>5.600000</td>\n",
       "      <td>5.600000</td>\n",
       "      <td>5.463636</td>\n",
       "    </tr>\n",
       "    <tr>\n",
       "      <th>...</th>\n",
       "      <td>...</td>\n",
       "      <td>...</td>\n",
       "      <td>...</td>\n",
       "      <td>...</td>\n",
       "      <td>...</td>\n",
       "      <td>...</td>\n",
       "      <td>...</td>\n",
       "      <td>...</td>\n",
       "      <td>...</td>\n",
       "    </tr>\n",
       "    <tr>\n",
       "      <th>15501</th>\n",
       "      <td>0.721154</td>\n",
       "      <td>0.370000</td>\n",
       "      <td>5.3</td>\n",
       "      <td>0.000220</td>\n",
       "      <td>5.742537</td>\n",
       "      <td>6.075000</td>\n",
       "      <td>4.895652</td>\n",
       "      <td>5.571429</td>\n",
       "      <td>5.616067</td>\n",
       "    </tr>\n",
       "    <tr>\n",
       "      <th>15503</th>\n",
       "      <td>0.692308</td>\n",
       "      <td>0.346667</td>\n",
       "      <td>5.8</td>\n",
       "      <td>0.000066</td>\n",
       "      <td>6.328571</td>\n",
       "      <td>5.800000</td>\n",
       "      <td>5.850000</td>\n",
       "      <td>5.885714</td>\n",
       "      <td>5.616067</td>\n",
       "    </tr>\n",
       "    <tr>\n",
       "      <th>15504</th>\n",
       "      <td>0.682692</td>\n",
       "      <td>0.370000</td>\n",
       "      <td>4.6</td>\n",
       "      <td>0.000010</td>\n",
       "      <td>6.025532</td>\n",
       "      <td>3.700000</td>\n",
       "      <td>4.600000</td>\n",
       "      <td>4.075000</td>\n",
       "      <td>5.045524</td>\n",
       "    </tr>\n",
       "    <tr>\n",
       "      <th>15505</th>\n",
       "      <td>0.788462</td>\n",
       "      <td>0.360000</td>\n",
       "      <td>4.5</td>\n",
       "      <td>0.001099</td>\n",
       "      <td>5.481707</td>\n",
       "      <td>4.645455</td>\n",
       "      <td>5.617143</td>\n",
       "      <td>5.225000</td>\n",
       "      <td>5.460741</td>\n",
       "    </tr>\n",
       "    <tr>\n",
       "      <th>15508</th>\n",
       "      <td>0.778846</td>\n",
       "      <td>0.363333</td>\n",
       "      <td>6.2</td>\n",
       "      <td>0.000025</td>\n",
       "      <td>5.742537</td>\n",
       "      <td>5.497500</td>\n",
       "      <td>4.633333</td>\n",
       "      <td>4.350000</td>\n",
       "      <td>5.460741</td>\n",
       "    </tr>\n",
       "  </tbody>\n",
       "</table>\n",
       "<p>7558 rows × 9 columns</p>\n",
       "</div>"
      ],
      "text/plain": [
       "           Year  Duration  Rating     Votes  Actor1_trans  Actor2_trans  \\\n",
       "1      0.980769  0.293333     7.0  0.000005      6.850000      7.000000   \n",
       "3      0.980769  0.296667     4.4  0.000051      5.420000      4.400000   \n",
       "5      0.769231  0.420000     4.7  0.001390      4.788889      5.786667   \n",
       "6      0.846154  0.403333     7.4  0.001828      5.300000      6.050000   \n",
       "8      0.913462  0.203333     5.6  0.000543      5.600000      5.883333   \n",
       "...         ...       ...     ...       ...           ...           ...   \n",
       "15501  0.721154  0.370000     5.3  0.000220      5.742537      6.075000   \n",
       "15503  0.692308  0.346667     5.8  0.000066      6.328571      5.800000   \n",
       "15504  0.682692  0.370000     4.6  0.000010      6.025532      3.700000   \n",
       "15505  0.788462  0.360000     4.5  0.001099      5.481707      4.645455   \n",
       "15508  0.778846  0.363333     6.2  0.000025      5.742537      5.497500   \n",
       "\n",
       "       Actor3_trans  Director_trans  Genre_trans  \n",
       "1          7.000000        7.000000     6.345910  \n",
       "3          4.450000        4.400000     5.700000  \n",
       "5          5.766667        5.358824     6.224490  \n",
       "6          6.500000        7.500000     6.820000  \n",
       "8          5.600000        5.600000     5.463636  \n",
       "...             ...             ...          ...  \n",
       "15501      4.895652        5.571429     5.616067  \n",
       "15503      5.850000        5.885714     5.616067  \n",
       "15504      4.600000        4.075000     5.045524  \n",
       "15505      5.617143        5.225000     5.460741  \n",
       "15508      4.633333        4.350000     5.460741  \n",
       "\n",
       "[7558 rows x 9 columns]"
      ]
     },
     "execution_count": 22,
     "metadata": {},
     "output_type": "execute_result"
    }
   ],
   "source": [
    "selected_ds=data_movies.drop(['Name', 'Genre', 'Director', 'Actor 1', 'Actor 2', 'Actor 3'], axis=1, inplace=False)\n",
    "selected_ds"
   ]
  },
  {
   "cell_type": "code",
   "execution_count": 23,
   "id": "a4f4f411",
   "metadata": {},
   "outputs": [],
   "source": [
    "#Split DataSet\n",
    "from sklearn.model_selection import StratifiedShuffleSplit\n",
    "x=selected_ds.drop(['Rating'], axis=1)\n",
    "y=selected_ds['Rating']\n",
    "bins = pd.cut(y, bins=9, labels=False)\n",
    "splitter = StratifiedShuffleSplit(n_splits=1, test_size=0.2, random_state=42)\n",
    "for train_index, test_index in splitter.split(x, bins):\n",
    "    X_train, X_test = x.iloc[train_index], x.iloc[test_index]\n",
    "    y_train, y_test = y.iloc[train_index], y.iloc[test_index]"
   ]
  },
  {
   "cell_type": "markdown",
   "id": "c64b48a5",
   "metadata": {},
   "source": [
    "# Create model for prediction"
   ]
  },
  {
   "cell_type": "code",
   "execution_count": 24,
   "id": "11040045",
   "metadata": {},
   "outputs": [],
   "source": [
    "from sklearn.linear_model import LinearRegression \n",
    "from sklearn.metrics import r2_score\n",
    "#Creat a model\n",
    "model = LinearRegression()\n",
    "#Train the model\n",
    "model.fit(X_train,y_train)\n",
    "predictions = model.predict(X_test) "
   ]
  },
  {
   "cell_type": "code",
   "execution_count": 25,
   "id": "d0f8a66b",
   "metadata": {},
   "outputs": [
    {
     "name": "stdout",
     "output_type": "stream",
     "text": [
      "R² : 76.71 %\n"
     ]
    }
   ],
   "source": [
    "#Statistical R2\n",
    "R2 = r2_score(y_test, predictions)\n",
    "print(\"R² :\", (R2*100).round(2), \"%\")"
   ]
  }
 ],
 "metadata": {
  "kernelspec": {
   "display_name": "Python 3 (ipykernel)",
   "language": "python",
   "name": "python3"
  },
  "language_info": {
   "codemirror_mode": {
    "name": "ipython",
    "version": 3
   },
   "file_extension": ".py",
   "mimetype": "text/x-python",
   "name": "python",
   "nbconvert_exporter": "python",
   "pygments_lexer": "ipython3",
   "version": "3.10.12"
  }
 },
 "nbformat": 4,
 "nbformat_minor": 5
}
