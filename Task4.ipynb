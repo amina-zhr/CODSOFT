{
 "cells": [
  {
   "cell_type": "markdown",
   "id": "d15f6188",
   "metadata": {},
   "source": [
    "# Task Description"
   ]
  },
  {
   "cell_type": "markdown",
   "id": "82a94c9d",
   "metadata": {},
   "source": [
    "Develop a predictive model that can estimate the overall amount consumers are likely to spend on purchasing a vehicle. Leveraging various characteristics such as customer demographics, financial information, and preferences, the model aims to provide accurate predictions of the expected spending amount."
   ]
  },
  {
   "cell_type": "markdown",
   "id": "8ff77f5d",
   "metadata": {},
   "source": [
    "# Import DataSet"
   ]
  },
  {
   "cell_type": "code",
   "execution_count": 1,
   "id": "cdd5b118",
   "metadata": {
    "scrolled": true
   },
   "outputs": [
    {
     "name": "stderr",
     "output_type": "stream",
     "text": [
      "C:\\Users\\ZAHAR AMINA\\anaconda3\\envs\\Data_insight\\lib\\site-packages\\openpyxl\\worksheet\\_read_only.py:79: UserWarning: Unknown extension is not supported and will be removed\n",
      "  for idx, row in parser.parse():\n"
     ]
    },
    {
     "data": {
      "text/html": [
       "<div>\n",
       "<style scoped>\n",
       "    .dataframe tbody tr th:only-of-type {\n",
       "        vertical-align: middle;\n",
       "    }\n",
       "\n",
       "    .dataframe tbody tr th {\n",
       "        vertical-align: top;\n",
       "    }\n",
       "\n",
       "    .dataframe thead th {\n",
       "        text-align: right;\n",
       "    }\n",
       "</style>\n",
       "<table border=\"1\" class=\"dataframe\">\n",
       "  <thead>\n",
       "    <tr style=\"text-align: right;\">\n",
       "      <th></th>\n",
       "      <th>customer name</th>\n",
       "      <th>customer e-mail</th>\n",
       "      <th>country</th>\n",
       "      <th>gender</th>\n",
       "      <th>age</th>\n",
       "      <th>annual Salary</th>\n",
       "      <th>credit card debt</th>\n",
       "      <th>net worth</th>\n",
       "      <th>car purchase amount</th>\n",
       "    </tr>\n",
       "  </thead>\n",
       "  <tbody>\n",
       "    <tr>\n",
       "      <th>0</th>\n",
       "      <td>Martina Avila</td>\n",
       "      <td>cubilia.Curae.Phasellus@quisaccumsanconvallis.edu</td>\n",
       "      <td>Bulgaria</td>\n",
       "      <td>0</td>\n",
       "      <td>41.851720</td>\n",
       "      <td>62812.09301</td>\n",
       "      <td>11609.380910</td>\n",
       "      <td>238961.2505</td>\n",
       "      <td>35321.45877</td>\n",
       "    </tr>\n",
       "    <tr>\n",
       "      <th>1</th>\n",
       "      <td>Harlan Barnes</td>\n",
       "      <td>eu.dolor@diam.co.uk</td>\n",
       "      <td>Belize</td>\n",
       "      <td>0</td>\n",
       "      <td>40.870623</td>\n",
       "      <td>66646.89292</td>\n",
       "      <td>9572.957136</td>\n",
       "      <td>530973.9078</td>\n",
       "      <td>45115.52566</td>\n",
       "    </tr>\n",
       "    <tr>\n",
       "      <th>2</th>\n",
       "      <td>Naomi Rodriquez</td>\n",
       "      <td>vulputate.mauris.sagittis@ametconsectetueradip...</td>\n",
       "      <td>Algeria</td>\n",
       "      <td>1</td>\n",
       "      <td>43.152897</td>\n",
       "      <td>53798.55112</td>\n",
       "      <td>11160.355060</td>\n",
       "      <td>638467.1773</td>\n",
       "      <td>42925.70921</td>\n",
       "    </tr>\n",
       "    <tr>\n",
       "      <th>3</th>\n",
       "      <td>Jade Cunningham</td>\n",
       "      <td>malesuada@dignissim.com</td>\n",
       "      <td>Cook Islands</td>\n",
       "      <td>1</td>\n",
       "      <td>58.271369</td>\n",
       "      <td>79370.03798</td>\n",
       "      <td>14426.164850</td>\n",
       "      <td>548599.0524</td>\n",
       "      <td>67422.36313</td>\n",
       "    </tr>\n",
       "    <tr>\n",
       "      <th>4</th>\n",
       "      <td>Cedric Leach</td>\n",
       "      <td>felis.ullamcorper.viverra@egetmollislectus.net</td>\n",
       "      <td>Brazil</td>\n",
       "      <td>1</td>\n",
       "      <td>57.313749</td>\n",
       "      <td>59729.15130</td>\n",
       "      <td>5358.712177</td>\n",
       "      <td>560304.0671</td>\n",
       "      <td>55915.46248</td>\n",
       "    </tr>\n",
       "  </tbody>\n",
       "</table>\n",
       "</div>"
      ],
      "text/plain": [
       "     customer name                                    customer e-mail  \\\n",
       "0    Martina Avila  cubilia.Curae.Phasellus@quisaccumsanconvallis.edu   \n",
       "1    Harlan Barnes                                eu.dolor@diam.co.uk   \n",
       "2  Naomi Rodriquez  vulputate.mauris.sagittis@ametconsectetueradip...   \n",
       "3  Jade Cunningham                            malesuada@dignissim.com   \n",
       "4     Cedric Leach     felis.ullamcorper.viverra@egetmollislectus.net   \n",
       "\n",
       "        country  gender        age  annual Salary  credit card debt  \\\n",
       "0      Bulgaria       0  41.851720    62812.09301      11609.380910   \n",
       "1        Belize       0  40.870623    66646.89292       9572.957136   \n",
       "2       Algeria       1  43.152897    53798.55112      11160.355060   \n",
       "3  Cook Islands       1  58.271369    79370.03798      14426.164850   \n",
       "4        Brazil       1  57.313749    59729.15130       5358.712177   \n",
       "\n",
       "     net worth  car purchase amount  \n",
       "0  238961.2505          35321.45877  \n",
       "1  530973.9078          45115.52566  \n",
       "2  638467.1773          42925.70921  \n",
       "3  548599.0524          67422.36313  \n",
       "4  560304.0671          55915.46248  "
      ]
     },
     "execution_count": 1,
     "metadata": {},
     "output_type": "execute_result"
    }
   ],
   "source": [
    "import pandas as pd\n",
    "carData = pd.read_excel('C:/Users/ZAHAR AMINA/Desktop/Codsoft/Task4/car_purchasing.xlsx')\n",
    "carData.head()"
   ]
  },
  {
   "cell_type": "markdown",
   "id": "b62d15c0",
   "metadata": {},
   "source": [
    "# Understanding"
   ]
  },
  {
   "cell_type": "code",
   "execution_count": 2,
   "id": "d0fd5f13",
   "metadata": {},
   "outputs": [
    {
     "name": "stdout",
     "output_type": "stream",
     "text": [
      "<class 'pandas.core.frame.DataFrame'>\n",
      "RangeIndex: 500 entries, 0 to 499\n",
      "Data columns (total 9 columns):\n",
      " #   Column               Non-Null Count  Dtype  \n",
      "---  ------               --------------  -----  \n",
      " 0   customer name        500 non-null    object \n",
      " 1   customer e-mail      500 non-null    object \n",
      " 2   country              500 non-null    object \n",
      " 3   gender               500 non-null    int64  \n",
      " 4   age                  500 non-null    float64\n",
      " 5   annual Salary        500 non-null    float64\n",
      " 6   credit card debt     500 non-null    float64\n",
      " 7   net worth            500 non-null    float64\n",
      " 8   car purchase amount  500 non-null    float64\n",
      "dtypes: float64(5), int64(1), object(3)\n",
      "memory usage: 35.3+ KB\n"
     ]
    }
   ],
   "source": [
    "carData.info()"
   ]
  },
  {
   "cell_type": "code",
   "execution_count": 3,
   "id": "e2e41412",
   "metadata": {},
   "outputs": [
    {
     "data": {
      "text/html": [
       "<div>\n",
       "<style scoped>\n",
       "    .dataframe tbody tr th:only-of-type {\n",
       "        vertical-align: middle;\n",
       "    }\n",
       "\n",
       "    .dataframe tbody tr th {\n",
       "        vertical-align: top;\n",
       "    }\n",
       "\n",
       "    .dataframe thead th {\n",
       "        text-align: right;\n",
       "    }\n",
       "</style>\n",
       "<table border=\"1\" class=\"dataframe\">\n",
       "  <thead>\n",
       "    <tr style=\"text-align: right;\">\n",
       "      <th></th>\n",
       "      <th>gender</th>\n",
       "      <th>age</th>\n",
       "      <th>annual Salary</th>\n",
       "      <th>credit card debt</th>\n",
       "      <th>net worth</th>\n",
       "      <th>car purchase amount</th>\n",
       "    </tr>\n",
       "  </thead>\n",
       "  <tbody>\n",
       "    <tr>\n",
       "      <th>count</th>\n",
       "      <td>500.000000</td>\n",
       "      <td>500.000000</td>\n",
       "      <td>500.000000</td>\n",
       "      <td>500.000000</td>\n",
       "      <td>500.000000</td>\n",
       "      <td>500.000000</td>\n",
       "    </tr>\n",
       "    <tr>\n",
       "      <th>mean</th>\n",
       "      <td>0.506000</td>\n",
       "      <td>46.241674</td>\n",
       "      <td>62127.239608</td>\n",
       "      <td>9607.645049</td>\n",
       "      <td>431475.713625</td>\n",
       "      <td>44209.799218</td>\n",
       "    </tr>\n",
       "    <tr>\n",
       "      <th>std</th>\n",
       "      <td>0.500465</td>\n",
       "      <td>7.978862</td>\n",
       "      <td>11703.378228</td>\n",
       "      <td>3489.187973</td>\n",
       "      <td>173536.756340</td>\n",
       "      <td>10773.178744</td>\n",
       "    </tr>\n",
       "    <tr>\n",
       "      <th>min</th>\n",
       "      <td>0.000000</td>\n",
       "      <td>20.000000</td>\n",
       "      <td>20000.000000</td>\n",
       "      <td>100.000000</td>\n",
       "      <td>20000.000000</td>\n",
       "      <td>9000.000000</td>\n",
       "    </tr>\n",
       "    <tr>\n",
       "      <th>25%</th>\n",
       "      <td>0.000000</td>\n",
       "      <td>40.949969</td>\n",
       "      <td>54391.977195</td>\n",
       "      <td>7397.515792</td>\n",
       "      <td>299824.195900</td>\n",
       "      <td>37629.896040</td>\n",
       "    </tr>\n",
       "    <tr>\n",
       "      <th>50%</th>\n",
       "      <td>1.000000</td>\n",
       "      <td>46.049901</td>\n",
       "      <td>62915.497035</td>\n",
       "      <td>9655.035568</td>\n",
       "      <td>426750.120650</td>\n",
       "      <td>43997.783390</td>\n",
       "    </tr>\n",
       "    <tr>\n",
       "      <th>75%</th>\n",
       "      <td>1.000000</td>\n",
       "      <td>51.612263</td>\n",
       "      <td>70117.862005</td>\n",
       "      <td>11798.867487</td>\n",
       "      <td>557324.478725</td>\n",
       "      <td>51254.709517</td>\n",
       "    </tr>\n",
       "    <tr>\n",
       "      <th>max</th>\n",
       "      <td>1.000000</td>\n",
       "      <td>70.000000</td>\n",
       "      <td>100000.000000</td>\n",
       "      <td>20000.000000</td>\n",
       "      <td>1000000.000000</td>\n",
       "      <td>80000.000000</td>\n",
       "    </tr>\n",
       "  </tbody>\n",
       "</table>\n",
       "</div>"
      ],
      "text/plain": [
       "           gender         age  annual Salary  credit card debt  \\\n",
       "count  500.000000  500.000000     500.000000        500.000000   \n",
       "mean     0.506000   46.241674   62127.239608       9607.645049   \n",
       "std      0.500465    7.978862   11703.378228       3489.187973   \n",
       "min      0.000000   20.000000   20000.000000        100.000000   \n",
       "25%      0.000000   40.949969   54391.977195       7397.515792   \n",
       "50%      1.000000   46.049901   62915.497035       9655.035568   \n",
       "75%      1.000000   51.612263   70117.862005      11798.867487   \n",
       "max      1.000000   70.000000  100000.000000      20000.000000   \n",
       "\n",
       "            net worth  car purchase amount  \n",
       "count      500.000000           500.000000  \n",
       "mean    431475.713625         44209.799218  \n",
       "std     173536.756340         10773.178744  \n",
       "min      20000.000000          9000.000000  \n",
       "25%     299824.195900         37629.896040  \n",
       "50%     426750.120650         43997.783390  \n",
       "75%     557324.478725         51254.709517  \n",
       "max    1000000.000000         80000.000000  "
      ]
     },
     "execution_count": 3,
     "metadata": {},
     "output_type": "execute_result"
    }
   ],
   "source": [
    "carData.describe()"
   ]
  },
  {
   "cell_type": "code",
   "execution_count": 4,
   "id": "d85756d8",
   "metadata": {},
   "outputs": [
    {
     "data": {
      "text/plain": [
       "customer name          0.0\n",
       "customer e-mail        0.0\n",
       "country                0.0\n",
       "gender                 0.0\n",
       "age                    0.0\n",
       "annual Salary          0.0\n",
       "credit card debt       0.0\n",
       "net worth              0.0\n",
       "car purchase amount    0.0\n",
       "dtype: float64"
      ]
     },
     "execution_count": 4,
     "metadata": {},
     "output_type": "execute_result"
    }
   ],
   "source": [
    "carData.isna().sum()/len(carData)"
   ]
  },
  {
   "cell_type": "code",
   "execution_count": 5,
   "id": "710a26f9",
   "metadata": {},
   "outputs": [
    {
     "data": {
      "text/plain": [
       "Israel                 6\n",
       "Mauritania             6\n",
       "Bolivia                6\n",
       "Greenland              5\n",
       "Saint Barthélemy       5\n",
       "                      ..\n",
       "El Salvador            1\n",
       "Denmark                1\n",
       "Oman                   1\n",
       "Trinidad and Tobago    1\n",
       "marlal                 1\n",
       "Name: country, Length: 211, dtype: int64"
      ]
     },
     "execution_count": 5,
     "metadata": {},
     "output_type": "execute_result"
    }
   ],
   "source": [
    "carData['country'].value_counts()"
   ]
  },
  {
   "cell_type": "code",
   "execution_count": 6,
   "id": "181ebe14",
   "metadata": {},
   "outputs": [
    {
     "data": {
      "text/plain": [
       "Seth                    2\n",
       "Walter                  2\n",
       "Martina Avila           1\n",
       "Sexton, Shaeleigh H.    1\n",
       "Holloway, Brennan Q.    1\n",
       "                       ..\n",
       "Holmes Irwin            1\n",
       "Hector Price            1\n",
       "Sebastian Marks         1\n",
       "Marvin Garner           1\n",
       "Marla                   1\n",
       "Name: customer name, Length: 498, dtype: int64"
      ]
     },
     "execution_count": 6,
     "metadata": {},
     "output_type": "execute_result"
    }
   ],
   "source": [
    "carData['customer name'].value_counts()"
   ]
  },
  {
   "cell_type": "code",
   "execution_count": 7,
   "id": "8559b521",
   "metadata": {},
   "outputs": [
    {
     "data": {
      "text/plain": [
       "cubilia.Curae.Phasellus@quisaccumsanconvallis.edu    1\n",
       "mi.eleifend.egestas@cursuset.net                     1\n",
       "ut@Etiamvestibulum.ca                                1\n",
       "nunc.sed.pede@Quisqueporttitor.net                   1\n",
       "Cras.eu@vitaevelitegestas.net                        1\n",
       "                                                    ..\n",
       "Nunc.sed.orci@Namligulaelit.net                      1\n",
       "Aliquam.nisl@semegetmassa.co.uk                      1\n",
       "et.eros@feugiatmetussit.net                          1\n",
       "in@sed.org                                           1\n",
       "Camaron.marla@hotmail.com                            1\n",
       "Name: customer e-mail, Length: 500, dtype: int64"
      ]
     },
     "execution_count": 7,
     "metadata": {},
     "output_type": "execute_result"
    }
   ],
   "source": [
    "carData['customer e-mail'].value_counts()"
   ]
  },
  {
   "cell_type": "code",
   "execution_count": 8,
   "id": "77134a8b",
   "metadata": {},
   "outputs": [
    {
     "data": {
      "image/png": "[encoded data removed]",
      "text/plain": [
       "<Figure size 300x200 with 1 Axes>"
      ]
     },
     "metadata": {},
     "output_type": "display_data"
    }
   ],
   "source": [
    "from matplotlib import pyplot as plt\n",
    "\n",
    "classes_distribution = carData['gender'].value_counts()\n",
    "\n",
    "# Plotting the histogram\n",
    "plt.figure(figsize=(3,2))\n",
    "plt.bar(classes_distribution.index, classes_distribution.values)\n",
    "plt.title('Distribution of Gender')\n",
    "plt.show()"
   ]
  },
  {
   "cell_type": "code",
   "execution_count": 9,
   "id": "2c08a745",
   "metadata": {},
   "outputs": [
    {
     "data": {
      "image/png": "[encoded data removed]",
      "text/plain": [
       "<Figure size 500x300 with 1 Axes>"
      ]
     },
     "metadata": {},
     "output_type": "display_data"
    }
   ],
   "source": [
    "import matplotlib.pyplot as plt\n",
    "\n",
    "plt.figure(figsize=(5,3))\n",
    "plt.hist(carData['age'].astype('int64'), bins=9, edgecolor='white')\n",
    "plt.title('Age distribution')\n",
    "plt.xlabel('Age')\n",
    "plt.ylabel('Distribution')\n",
    "plt.show()"
   ]
  },
  {
   "cell_type": "code",
   "execution_count": 10,
   "id": "93a6a68a",
   "metadata": {},
   "outputs": [
    {
     "data": {
      "image/png": "[encoded data removed]",
      "text/plain": [
       "<Figure size 500x300 with 1 Axes>"
      ]
     },
     "metadata": {},
     "output_type": "display_data"
    }
   ],
   "source": [
    "plt.figure(figsize=(5,3))\n",
    "plt.hist(carData['annual Salary'].astype('int64'), bins=15, edgecolor='white')\n",
    "plt.title('Customers annual salary distribution')\n",
    "plt.xlabel('Annual salary')\n",
    "plt.ylabel('Distribution')\n",
    "plt.show()"
   ]
  },
  {
   "cell_type": "code",
   "execution_count": 11,
   "id": "7276fdb1",
   "metadata": {},
   "outputs": [
    {
     "data": {
      "image/png": "[encoded data removed]",
      "text/plain": [
       "<Figure size 500x300 with 1 Axes>"
      ]
     },
     "metadata": {},
     "output_type": "display_data"
    }
   ],
   "source": [
    "plt.figure(figsize=(5,3))\n",
    "plt.hist(carData['credit card debt'].astype('int64'), bins=18, edgecolor='white')\n",
    "plt.title('Customers credit card debt distribution')\n",
    "plt.xlabel('credit card debt')\n",
    "plt.ylabel('Distribution')\n",
    "plt.show()"
   ]
  },
  {
   "cell_type": "code",
   "execution_count": 12,
   "id": "f0775cda",
   "metadata": {},
   "outputs": [
    {
     "data": {
      "image/png": "[encoded data removed]",
      "text/plain": [
       "<Figure size 500x300 with 1 Axes>"
      ]
     },
     "metadata": {},
     "output_type": "display_data"
    }
   ],
   "source": [
    "plt.figure(figsize=(5,3))\n",
    "plt.hist(carData['net worth'].astype('int64'), bins=9, edgecolor='white')\n",
    "plt.title('Customers net worth distribution')\n",
    "plt.xlabel('Net worth')\n",
    "plt.ylabel('Distribution')\n",
    "plt.show()"
   ]
  },
  {
   "cell_type": "code",
   "execution_count": 13,
   "id": "4e00d1d8",
   "metadata": {},
   "outputs": [
    {
     "data": {
      "image/png": "[encoded data removed]",
      "text/plain": [
       "<Figure size 500x300 with 1 Axes>"
      ]
     },
     "metadata": {},
     "output_type": "display_data"
    }
   ],
   "source": [
    "plt.figure(figsize=(5,3))\n",
    "plt.hist(carData['car purchase amount'].astype('int64'), bins=30, edgecolor='white')\n",
    "plt.title('Customers car purchase amount distribution')\n",
    "plt.xlabel('car purchase amount')\n",
    "plt.ylabel('Distribution')\n",
    "plt.show()"
   ]
  },
  {
   "cell_type": "code",
   "execution_count": 14,
   "id": "34f44d6a",
   "metadata": {},
   "outputs": [
    {
     "data": {
      "text/html": [
       "<div>\n",
       "<style scoped>\n",
       "    .dataframe tbody tr th:only-of-type {\n",
       "        vertical-align: middle;\n",
       "    }\n",
       "\n",
       "    .dataframe tbody tr th {\n",
       "        vertical-align: top;\n",
       "    }\n",
       "\n",
       "    .dataframe thead th {\n",
       "        text-align: right;\n",
       "    }\n",
       "</style>\n",
       "<table border=\"1\" class=\"dataframe\">\n",
       "  <thead>\n",
       "    <tr style=\"text-align: right;\">\n",
       "      <th></th>\n",
       "      <th>car purchase amount</th>\n",
       "      <th>annual Salary</th>\n",
       "    </tr>\n",
       "    <tr>\n",
       "      <th>gender</th>\n",
       "      <th></th>\n",
       "      <th></th>\n",
       "    </tr>\n",
       "  </thead>\n",
       "  <tbody>\n",
       "    <tr>\n",
       "      <th>0</th>\n",
       "      <td>44933.131928</td>\n",
       "      <td>62559.128313</td>\n",
       "    </tr>\n",
       "    <tr>\n",
       "      <th>1</th>\n",
       "      <td>43503.620644</td>\n",
       "      <td>61705.593322</td>\n",
       "    </tr>\n",
       "  </tbody>\n",
       "</table>\n",
       "</div>"
      ],
      "text/plain": [
       "        car purchase amount  annual Salary\n",
       "gender                                    \n",
       "0              44933.131928   62559.128313\n",
       "1              43503.620644   61705.593322"
      ]
     },
     "execution_count": 14,
     "metadata": {},
     "output_type": "execute_result"
    }
   ],
   "source": [
    "carData.groupby('gender')[['car purchase amount', 'annual Salary']].mean()\n"
   ]
  },
  {
   "cell_type": "markdown",
   "id": "19664ebc",
   "metadata": {},
   "source": [
    "# Insights :"
   ]
  },
  {
   "cell_type": "markdown",
   "id": "ae34c950",
   "metadata": {},
   "source": [
    "1. Customers names and emails are uniques.\n",
    "2. Substantial variation is observed in the ranges of attribute values.\n",
    "3. The distribution of the 'gender' attribute is approximately equal.\n",
    "4. There's no missing values.\n",
    "5. There's many classes in the 'country' attribute."
   ]
  },
  {
   "cell_type": "markdown",
   "id": "53f71eba",
   "metadata": {},
   "source": [
    "# Preprocessing & model training"
   ]
  },
  {
   "cell_type": "code",
   "execution_count": 15,
   "id": "3e9b62e3",
   "metadata": {},
   "outputs": [],
   "source": [
    "carData['annual Salary']=(carData['annual Salary']-carData['annual Salary'].mean())/carData['annual Salary'].std()"
   ]
  },
  {
   "cell_type": "code",
   "execution_count": 16,
   "id": "4b017fe8",
   "metadata": {},
   "outputs": [],
   "source": [
    "carData['credit card debt']=(carData['credit card debt']-carData['credit card debt'].mean())/carData['credit card debt'].std()"
   ]
  },
  {
   "cell_type": "code",
   "execution_count": 17,
   "id": "8fd8e457",
   "metadata": {},
   "outputs": [],
   "source": [
    "carData['net worth']=(carData['net worth']-carData['net worth'].mean())/carData['net worth'].std()"
   ]
  },
  {
   "cell_type": "code",
   "execution_count": 18,
   "id": "a93ba41b",
   "metadata": {},
   "outputs": [],
   "source": [
    "import numpy as np\n",
    "\n",
    "carData['car purchase amount']=np.log(carData['car purchase amount'])"
   ]
  },
  {
   "cell_type": "code",
   "execution_count": 19,
   "id": "c190259d",
   "metadata": {},
   "outputs": [],
   "source": [
    "carData['age']=(carData['age']-carData['age'].mean())/carData['age'].std()"
   ]
  },
  {
   "cell_type": "code",
   "execution_count": 24,
   "id": "6efe3f02",
   "metadata": {},
   "outputs": [],
   "source": [
    "carData['countryCoded']=carData.groupby('country')['car purchase amount'].transform('mean')"
   ]
  },
  {
   "cell_type": "code",
   "execution_count": 25,
   "id": "6555b0cc",
   "metadata": {},
   "outputs": [
    {
     "data": {
      "text/html": [
       "<div>\n",
       "<style scoped>\n",
       "    .dataframe tbody tr th:only-of-type {\n",
       "        vertical-align: middle;\n",
       "    }\n",
       "\n",
       "    .dataframe tbody tr th {\n",
       "        vertical-align: top;\n",
       "    }\n",
       "\n",
       "    .dataframe thead th {\n",
       "        text-align: right;\n",
       "    }\n",
       "</style>\n",
       "<table border=\"1\" class=\"dataframe\">\n",
       "  <thead>\n",
       "    <tr style=\"text-align: right;\">\n",
       "      <th></th>\n",
       "      <th>gender</th>\n",
       "      <th>age</th>\n",
       "      <th>annual Salary</th>\n",
       "      <th>credit card debt</th>\n",
       "      <th>net worth</th>\n",
       "      <th>car purchase amount</th>\n",
       "      <th>countryCoded</th>\n",
       "    </tr>\n",
       "  </thead>\n",
       "  <tbody>\n",
       "    <tr>\n",
       "      <th>count</th>\n",
       "      <td>500.000000</td>\n",
       "      <td>5.000000e+02</td>\n",
       "      <td>5.000000e+02</td>\n",
       "      <td>5.000000e+02</td>\n",
       "      <td>5.000000e+02</td>\n",
       "      <td>500.000000</td>\n",
       "      <td>500.000000</td>\n",
       "    </tr>\n",
       "    <tr>\n",
       "      <th>mean</th>\n",
       "      <td>0.506000</td>\n",
       "      <td>-8.171241e-16</td>\n",
       "      <td>2.309264e-16</td>\n",
       "      <td>6.465939e-16</td>\n",
       "      <td>-2.540190e-16</td>\n",
       "      <td>10.662856</td>\n",
       "      <td>10.662856</td>\n",
       "    </tr>\n",
       "    <tr>\n",
       "      <th>std</th>\n",
       "      <td>0.500465</td>\n",
       "      <td>1.000000e+00</td>\n",
       "      <td>1.000000e+00</td>\n",
       "      <td>1.000000e+00</td>\n",
       "      <td>1.000000e+00</td>\n",
       "      <td>0.274141</td>\n",
       "      <td>0.181247</td>\n",
       "    </tr>\n",
       "    <tr>\n",
       "      <th>min</th>\n",
       "      <td>0.000000</td>\n",
       "      <td>-3.288900e+00</td>\n",
       "      <td>-3.599579e+00</td>\n",
       "      <td>-2.724888e+00</td>\n",
       "      <td>-2.371116e+00</td>\n",
       "      <td>9.104980</td>\n",
       "      <td>9.929808</td>\n",
       "    </tr>\n",
       "    <tr>\n",
       "      <th>25%</th>\n",
       "      <td>0.000000</td>\n",
       "      <td>-6.632156e-01</td>\n",
       "      <td>-6.609427e-01</td>\n",
       "      <td>-6.334222e-01</td>\n",
       "      <td>-7.586377e-01</td>\n",
       "      <td>10.535547</td>\n",
       "      <td>10.560734</td>\n",
       "    </tr>\n",
       "    <tr>\n",
       "      <th>50%</th>\n",
       "      <td>1.000000</td>\n",
       "      <td>-2.403513e-02</td>\n",
       "      <td>6.735298e-02</td>\n",
       "      <td>1.358211e-02</td>\n",
       "      <td>-2.723108e-02</td>\n",
       "      <td>10.691895</td>\n",
       "      <td>10.674036</td>\n",
       "    </tr>\n",
       "    <tr>\n",
       "      <th>75%</th>\n",
       "      <td>1.000000</td>\n",
       "      <td>6.731021e-01</td>\n",
       "      <td>6.827620e-01</td>\n",
       "      <td>6.280036e-01</td>\n",
       "      <td>7.251995e-01</td>\n",
       "      <td>10.844562</td>\n",
       "      <td>10.795120</td>\n",
       "    </tr>\n",
       "    <tr>\n",
       "      <th>max</th>\n",
       "      <td>1.000000</td>\n",
       "      <td>2.977659e+00</td>\n",
       "      <td>3.236054e+00</td>\n",
       "      <td>2.978445e+00</td>\n",
       "      <td>3.276103e+00</td>\n",
       "      <td>11.289782</td>\n",
       "      <td>11.168720</td>\n",
       "    </tr>\n",
       "  </tbody>\n",
       "</table>\n",
       "</div>"
      ],
      "text/plain": [
       "           gender           age  annual Salary  credit card debt  \\\n",
       "count  500.000000  5.000000e+02   5.000000e+02      5.000000e+02   \n",
       "mean     0.506000 -8.171241e-16   2.309264e-16      6.465939e-16   \n",
       "std      0.500465  1.000000e+00   1.000000e+00      1.000000e+00   \n",
       "min      0.000000 -3.288900e+00  -3.599579e+00     -2.724888e+00   \n",
       "25%      0.000000 -6.632156e-01  -6.609427e-01     -6.334222e-01   \n",
       "50%      1.000000 -2.403513e-02   6.735298e-02      1.358211e-02   \n",
       "75%      1.000000  6.731021e-01   6.827620e-01      6.280036e-01   \n",
       "max      1.000000  2.977659e+00   3.236054e+00      2.978445e+00   \n",
       "\n",
       "          net worth  car purchase amount  countryCoded  \n",
       "count  5.000000e+02           500.000000    500.000000  \n",
       "mean  -2.540190e-16            10.662856     10.662856  \n",
       "std    1.000000e+00             0.274141      0.181247  \n",
       "min   -2.371116e+00             9.104980      9.929808  \n",
       "25%   -7.586377e-01            10.535547     10.560734  \n",
       "50%   -2.723108e-02            10.691895     10.674036  \n",
       "75%    7.251995e-01            10.844562     10.795120  \n",
       "max    3.276103e+00            11.289782     11.168720  "
      ]
     },
     "execution_count": 25,
     "metadata": {},
     "output_type": "execute_result"
    }
   ],
   "source": [
    "carData.describe()"
   ]
  },
  {
   "cell_type": "code",
   "execution_count": 44,
   "id": "340c0e15",
   "metadata": {},
   "outputs": [],
   "source": [
    "#Split DataSet\n",
    "from sklearn.model_selection import StratifiedShuffleSplit\n",
    "x=carData.drop(['car purchase amount', 'country', 'customer name', 'customer e-mail'], axis=1)\n",
    "y=carData['car purchase amount']\n",
    "bins = pd.cut(y, bins=4, labels=False)\n",
    "splitter = StratifiedShuffleSplit(n_splits=1, test_size=0.2, random_state=42)\n",
    "for train_index, test_index in splitter.split(x, bins):\n",
    "    X_train, X_test = x.iloc[train_index], x.iloc[test_index]\n",
    "    y_train, y_test = y.iloc[train_index], y.iloc[test_index]"
   ]
  },
  {
   "cell_type": "code",
   "execution_count": 45,
   "id": "5fff51ce",
   "metadata": {},
   "outputs": [],
   "source": [
    "from sklearn.linear_model import LinearRegression \n",
    "from sklearn.metrics import r2_score\n",
    "#Creat a model\n",
    "model = LinearRegression()\n",
    "#Train the model\n",
    "model.fit(X_train,y_train)\n",
    "predictions = model.predict(X_test) "
   ]
  },
  {
   "cell_type": "code",
   "execution_count": 46,
   "id": "d03e7323",
   "metadata": {},
   "outputs": [
    {
     "name": "stdout",
     "output_type": "stream",
     "text": [
      "R² : 95.28 %\n"
     ]
    }
   ],
   "source": [
    "#Statistical R2\n",
    "R2 = r2_score(y_test, predictions)\n",
    "print(\"R² :\", (R2*100).round(2), \"%\")"
   ]
  }
 ],
 "metadata": {
  "kernelspec": {
   "display_name": "Python 3 (ipykernel)",
   "language": "python",
   "name": "python3"
  },
  "language_info": {
   "codemirror_mode": {
    "name": "ipython",
    "version": 3
   },
   "file_extension": ".py",
   "mimetype": "text/x-python",
   "name": "python",
   "nbconvert_exporter": "python",
   "pygments_lexer": "ipython3",
   "version": "3.10.12"
  }
 },
 "nbformat": 4,
 "nbformat_minor": 5
}
